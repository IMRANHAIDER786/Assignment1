{
 "cells": [
  {
   "cell_type": "code",
   "execution_count": 1,
   "id": "d8382f77-27d7-4ba6-99f8-392e95d42dbf",
   "metadata": {},
   "outputs": [],
   "source": [
    "'''Declare two variables, `x` and `y`, and assign them integer values.\n",
    "Swap the values of these variables without using any temporary\n",
    "variable.'''\n",
    "x=5\n",
    "y=12"
   ]
  },
  {
   "cell_type": "code",
   "execution_count": 2,
   "id": "ba9b2690-64d7-4bf0-86aa-37d463ec5ab3",
   "metadata": {},
   "outputs": [],
   "source": [
    "x=y\n",
    "y=x"
   ]
  },
  {
   "cell_type": "code",
   "execution_count": 3,
   "id": "8df484ae-e703-4dcc-b17c-fad85e178d90",
   "metadata": {},
   "outputs": [
    {
     "data": {
      "text/plain": [
       "12"
      ]
     },
     "execution_count": 3,
     "metadata": {},
     "output_type": "execute_result"
    }
   ],
   "source": [
    "x"
   ]
  },
  {
   "cell_type": "code",
   "execution_count": 4,
   "id": "65aee86d-6260-4688-8a3a-b85c03a44827",
   "metadata": {},
   "outputs": [
    {
     "data": {
      "text/plain": [
       "12"
      ]
     },
     "execution_count": 4,
     "metadata": {},
     "output_type": "execute_result"
    }
   ],
   "source": [
    "y"
   ]
  },
  {
   "cell_type": "code",
   "execution_count": 5,
   "id": "fd99efdb-30f8-498e-9e25-93a0ea846346",
   "metadata": {},
   "outputs": [
    {
     "data": {
      "text/plain": [
       "'Create a program that calculates the area of a rectangle. Take the\\nlength and width as inputs from the user and store them in variables.\\nCalculate and display the area.'"
      ]
     },
     "execution_count": 5,
     "metadata": {},
     "output_type": "execute_result"
    }
   ],
   "source": [
    "'''Create a program that calculates the area of a rectangle. Take the\n",
    "length and width as inputs from the user and store them in variables.\n",
    "Calculate and display the area.'''\n"
   ]
  },
  {
   "cell_type": "code",
   "execution_count": 6,
   "id": "ec6a9e77-3ed3-4f9d-8208-35723385729d",
   "metadata": {},
   "outputs": [
    {
     "name": "stdin",
     "output_type": "stream",
     "text": [
      " 5\n"
     ]
    }
   ],
   "source": [
    "length=int(input())"
   ]
  },
  {
   "cell_type": "code",
   "execution_count": 7,
   "id": "72fd1718-9f31-4de8-963a-cb1d013c4df4",
   "metadata": {},
   "outputs": [
    {
     "name": "stdin",
     "output_type": "stream",
     "text": [
      " 4\n"
     ]
    }
   ],
   "source": [
    "breadth=int(input())"
   ]
  },
  {
   "cell_type": "code",
   "execution_count": 8,
   "id": "6e87e05a-29ad-40d1-8450-2fcf93c94a7f",
   "metadata": {},
   "outputs": [],
   "source": [
    "area=length*breadth"
   ]
  },
  {
   "cell_type": "code",
   "execution_count": 9,
   "id": "16103cba-cc2e-4b8c-aad2-5736ef96fd55",
   "metadata": {},
   "outputs": [
    {
     "data": {
      "text/plain": [
       "20"
      ]
     },
     "execution_count": 9,
     "metadata": {},
     "output_type": "execute_result"
    }
   ],
   "source": [
    "area"
   ]
  },
  {
   "cell_type": "code",
   "execution_count": 10,
   "id": "64ad475f-50b3-44b7-8514-6cb144520419",
   "metadata": {},
   "outputs": [
    {
     "data": {
      "text/plain": [
       "'Write a Python program that converts temperature from Celsius to\\nFahrenheit. Take the temperature in Celsius as input, store it in a\\nvariable, convert it to Fahrenheit, and display the result.'"
      ]
     },
     "execution_count": 10,
     "metadata": {},
     "output_type": "execute_result"
    }
   ],
   "source": [
    "'''Write a Python program that converts temperature from Celsius to\n",
    "Fahrenheit. Take the temperature in Celsius as input, store it in a\n",
    "variable, convert it to Fahrenheit, and display the result.'''"
   ]
  },
  {
   "cell_type": "code",
   "execution_count": 18,
   "id": "834bfacb-75cc-4e39-8a50-7cd657939d08",
   "metadata": {},
   "outputs": [
    {
     "name": "stdin",
     "output_type": "stream",
     "text": [
      " 37\n"
     ]
    }
   ],
   "source": [
    "Cel=int(input())\n",
    "\n"
   ]
  },
  {
   "cell_type": "code",
   "execution_count": 19,
   "id": "765c1e86-f098-446e-a3cf-a2832a39e7e5",
   "metadata": {},
   "outputs": [
    {
     "data": {
      "text/plain": [
       "37"
      ]
     },
     "execution_count": 19,
     "metadata": {},
     "output_type": "execute_result"
    }
   ],
   "source": [
    "Cel\n"
   ]
  },
  {
   "cell_type": "code",
   "execution_count": 21,
   "id": "c251f7de-7aff-4551-94c2-7c066cfec3f1",
   "metadata": {},
   "outputs": [],
   "source": [
    "Far=32+(9*Cel)/5"
   ]
  },
  {
   "cell_type": "code",
   "execution_count": 22,
   "id": "66b652ee-1b37-4b31-bb19-4e8aeb26c71a",
   "metadata": {},
   "outputs": [
    {
     "data": {
      "text/plain": [
       "98.6"
      ]
     },
     "execution_count": 22,
     "metadata": {},
     "output_type": "execute_result"
    }
   ],
   "source": [
    "Far"
   ]
  },
  {
   "cell_type": "code",
   "execution_count": 23,
   "id": "36fc76b1-1293-4c86-bd3f-1b59498ef7fc",
   "metadata": {},
   "outputs": [
    {
     "data": {
      "text/plain": [
       "'Write a Python program that takes a string as input and prints the\\nlength of the string.'"
      ]
     },
     "execution_count": 23,
     "metadata": {},
     "output_type": "execute_result"
    }
   ],
   "source": [
    "'''Write a Python program that takes a string as input and prints the\n",
    "length of the string.'''"
   ]
  },
  {
   "cell_type": "code",
   "execution_count": 24,
   "id": "9f4e87b6-5972-42de-9a14-1ea63c17bc12",
   "metadata": {},
   "outputs": [
    {
     "name": "stdin",
     "output_type": "stream",
     "text": [
      " Imran\n"
     ]
    }
   ],
   "source": [
    "a=input()"
   ]
  },
  {
   "cell_type": "code",
   "execution_count": 28,
   "id": "6e6fbb41-04e9-47f3-a4eb-833ab1d24972",
   "metadata": {},
   "outputs": [
    {
     "name": "stdout",
     "output_type": "stream",
     "text": [
      "5\n"
     ]
    }
   ],
   "source": [
    "print(len(a))"
   ]
  },
  {
   "cell_type": "code",
   "execution_count": 29,
   "id": "e19b3aea-63e9-4a88-b66b-39f531bca421",
   "metadata": {},
   "outputs": [
    {
     "data": {
      "text/plain": [
       "'Create a program that takes a sentence from the user and counts the\\nnumber of vowels (a, e, i, o, u) in the string.'"
      ]
     },
     "execution_count": 29,
     "metadata": {},
     "output_type": "execute_result"
    }
   ],
   "source": [
    "'''Create a program that takes a sentence from the user and counts the\n",
    "number of vowels (a, e, i, o, u) in the string.'''"
   ]
  },
  {
   "cell_type": "code",
   "execution_count": 1,
   "id": "0a7cd027-4ea9-4030-b626-9c90a36b3544",
   "metadata": {},
   "outputs": [
    {
     "name": "stdin",
     "output_type": "stream",
     "text": [
      " My name is Imran Haider Abidi\n"
     ]
    }
   ],
   "source": [
    "sentence=input()"
   ]
  },
  {
   "cell_type": "code",
   "execution_count": 2,
   "id": "d82646a6-a165-411b-b754-5c7d0577b055",
   "metadata": {},
   "outputs": [],
   "source": [
    "sentence1=sentence.lower()"
   ]
  },
  {
   "cell_type": "code",
   "execution_count": 7,
   "id": "f7ba8bd3-e49b-471f-b8de-c4e0739cb4ce",
   "metadata": {},
   "outputs": [
    {
     "name": "stdout",
     "output_type": "stream",
     "text": [
      "the number of vowels in sentence is 11\n"
     ]
    }
   ],
   "source": [
    "count=0\n",
    "vowels=['a','e','i','o','u']\n",
    "for char in sentence1:\n",
    "    if char in vowels:\n",
    "        count=count+1\n",
    "print(\"the number of vowels in sentence is\",count)       "
   ]
  },
  {
   "cell_type": "code",
   "execution_count": 4,
   "id": "ccf1eae3-2caa-4930-8836-c6a39b5d793e",
   "metadata": {},
   "outputs": [
    {
     "data": {
      "text/plain": [
       "'my name is imran haider abidi'"
      ]
     },
     "execution_count": 4,
     "metadata": {},
     "output_type": "execute_result"
    }
   ],
   "source": [
    "sentence1"
   ]
  },
  {
   "cell_type": "code",
   "execution_count": 8,
   "id": "46501883-84f0-49b5-8ede-7d6ea710333d",
   "metadata": {},
   "outputs": [
    {
     "data": {
      "text/plain": [
       "11"
      ]
     },
     "execution_count": 8,
     "metadata": {},
     "output_type": "execute_result"
    }
   ],
   "source": [
    "count"
   ]
  },
  {
   "cell_type": "code",
   "execution_count": 9,
   "id": "46d30046-aa55-4b8f-9998-f44ea409bf6a",
   "metadata": {},
   "outputs": [
    {
     "data": {
      "text/plain": [
       "'. Given a string, reverse the order of characters using string slicing and\\nprint the reversed string.\\n'"
      ]
     },
     "execution_count": 9,
     "metadata": {},
     "output_type": "execute_result"
    }
   ],
   "source": [
    "'''. Given a string, reverse the order of characters using string slicing and\n",
    "print the reversed string.\n",
    "'''"
   ]
  },
  {
   "cell_type": "code",
   "execution_count": 10,
   "id": "aa7298b7-7698-46c8-9ad7-0cf432960d66",
   "metadata": {},
   "outputs": [
    {
     "name": "stdin",
     "output_type": "stream",
     "text": [
      " pwskills\n"
     ]
    }
   ],
   "source": [
    "sen=input()"
   ]
  },
  {
   "cell_type": "code",
   "execution_count": 12,
   "id": "3e91fc23-d70d-4f20-87c6-9653dfaa92d9",
   "metadata": {},
   "outputs": [
    {
     "data": {
      "text/plain": [
       "'sllikswp'"
      ]
     },
     "execution_count": 12,
     "metadata": {},
     "output_type": "execute_result"
    }
   ],
   "source": [
    "sen[::-1]"
   ]
  },
  {
   "cell_type": "code",
   "execution_count": 13,
   "id": "d05deac3-7443-42db-b547-5e84645b4c12",
   "metadata": {},
   "outputs": [
    {
     "name": "stdout",
     "output_type": "stream",
     "text": [
      "pwskills\n"
     ]
    }
   ],
   "source": [
    "print(sen)"
   ]
  },
  {
   "cell_type": "code",
   "execution_count": 14,
   "id": "5d183a5c-b3c9-4f9a-8896-0dd495f0ac51",
   "metadata": {},
   "outputs": [
    {
     "data": {
      "text/plain": [
       "'Write a program that takes a string as input and checks if it is a\\npalindrome (reads the same forwards and backwards).'"
      ]
     },
     "execution_count": 14,
     "metadata": {},
     "output_type": "execute_result"
    }
   ],
   "source": [
    "'''Write a program that takes a string as input and checks if it is a\n",
    "palindrome (reads the same forwards and backwards).'''"
   ]
  },
  {
   "cell_type": "code",
   "execution_count": 1,
   "id": "a00cd0ba-aca7-4787-b41c-fbccde7f6a05",
   "metadata": {},
   "outputs": [
    {
     "name": "stdin",
     "output_type": "stream",
     "text": [
      " pwskills\n"
     ]
    }
   ],
   "source": [
    "a1=input()"
   ]
  },
  {
   "cell_type": "code",
   "execution_count": 2,
   "id": "896a05b9-9f0e-43c9-82e3-bcc4ec152ea7",
   "metadata": {},
   "outputs": [],
   "source": [
    "a2=a1[::-1]"
   ]
  },
  {
   "cell_type": "code",
   "execution_count": 4,
   "id": "f01abfd1-f557-4444-a0f8-806019233a55",
   "metadata": {},
   "outputs": [
    {
     "name": "stdout",
     "output_type": "stream",
     "text": [
      "not palindrome string\n"
     ]
    }
   ],
   "source": [
    "if(a1==a2):\n",
    "    print (\"palindrome string\")\n",
    "else:\n",
    "    print(\"not palindrome string\")\n"
   ]
  },
  {
   "cell_type": "code",
   "execution_count": 5,
   "id": "0ac85d27-ed4e-4fe7-9e5a-975f8e50c498",
   "metadata": {},
   "outputs": [
    {
     "data": {
      "text/plain": [
       "'Create a program that takes a string as input and removes all the\\nspaces from it. Print the modified string without spaces.'"
      ]
     },
     "execution_count": 5,
     "metadata": {},
     "output_type": "execute_result"
    }
   ],
   "source": [
    "'''Create a program that takes a string as input and removes all the\n",
    "spaces from it. Print the modified string without spaces.'''"
   ]
  },
  {
   "cell_type": "code",
   "execution_count": 2,
   "id": "7f6122b4-f18f-42da-877d-b8f7b4442f2f",
   "metadata": {},
   "outputs": [
    {
     "name": "stdin",
     "output_type": "stream",
     "text": [
      " My name is Imran\n"
     ]
    }
   ],
   "source": [
    "a=input()"
   ]
  },
  {
   "cell_type": "code",
   "execution_count": 3,
   "id": "1995e807-2faa-4860-82fc-d44a202a3ff7",
   "metadata": {},
   "outputs": [],
   "source": [
    "a1=a.replace(' ','')"
   ]
  },
  {
   "cell_type": "code",
   "execution_count": 4,
   "id": "872ea1d3-c480-41a2-a32a-cf6958751af8",
   "metadata": {},
   "outputs": [
    {
     "data": {
      "text/plain": [
       "'MynameisImran'"
      ]
     },
     "execution_count": 4,
     "metadata": {},
     "output_type": "execute_result"
    }
   ],
   "source": [
    "a1"
   ]
  },
  {
   "cell_type": "code",
   "execution_count": null,
   "id": "4f945cb1-150e-4842-bff0-8169cd655e3b",
   "metadata": {},
   "outputs": [],
   "source": [
    "'''Thankyou'''"
   ]
  }
 ],
 "metadata": {
  "kernelspec": {
   "display_name": "Python 3 (ipykernel)",
   "language": "python",
   "name": "python3"
  },
  "language_info": {
   "codemirror_mode": {
    "name": "ipython",
    "version": 3
   },
   "file_extension": ".py",
   "mimetype": "text/x-python",
   "name": "python",
   "nbconvert_exporter": "python",
   "pygments_lexer": "ipython3",
   "version": "3.10.8"
  }
 },
 "nbformat": 4,
 "nbformat_minor": 5
}
